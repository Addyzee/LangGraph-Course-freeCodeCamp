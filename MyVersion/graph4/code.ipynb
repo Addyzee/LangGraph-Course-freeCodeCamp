{
 "cells": [
  {
   "cell_type": "code",
   "execution_count": 1,
   "id": "c6069cd7",
   "metadata": {},
   "outputs": [],
   "source": [
    "from typing import TypedDict\n",
    "from langgraph.graph import StateGraph, START, END"
   ]
  },
  {
   "cell_type": "code",
   "execution_count": null,
   "id": "3fd0e616",
   "metadata": {},
   "outputs": [],
   "source": [
    "class AgentState(TypedDict):\n",
    "    number1: int\n",
    "    operation: str\n",
    "    number2: int\n",
    "    final_number: int"
   ]
  },
  {
   "cell_type": "code",
   "execution_count": 3,
   "id": "ca4eac01",
   "metadata": {},
   "outputs": [],
   "source": [
    "def adder(state: AgentState) -> AgentState:\n",
    "    '''Adds the two numbers in state'''\n",
    "    state['final_number'] = state['number1'] + state['number2']\n",
    "    return state\n",
    "\n",
    "def subtractor(state: AgentState) -> AgentState:\n",
    "    '''Subtract number 1 from number 2 in state'''\n",
    "    state['final_number'] = state['number1'] - state['number2']\n",
    "    return state\n",
    "\n",
    "def decide_next_node(state: AgentState) -> str:\n",
    "    '''Selects the next node in the graph'''\n",
    "    if state['operation'] == \"+\":\n",
    "        return \"addition_operation\"\n",
    "    elif state['operation'] == \"-\":\n",
    "        return \"subtraction_operation\"\n",
    "    return \"invalid\""
   ]
  },
  {
   "cell_type": "code",
   "execution_count": 4,
   "id": "3b07590a",
   "metadata": {},
   "outputs": [],
   "source": [
    "graph = StateGraph(AgentState)\n",
    "\n",
    "graph.add_node(\"addition_node\", adder)\n",
    "graph.add_node(\"subtraction_node\", subtractor)\n",
    "graph.add_node(\"router\", lambda state:state)\n",
    "\n",
    "graph.add_edge(START, \"router\")\n",
    "\n",
    "graph.add_conditional_edges(\n",
    "    \"router\",\n",
    "    decide_next_node,\n",
    "    {\n",
    "        \"addition_operation\": \"addition_node\",\n",
    "        \"subtraction_operation\":\"subtraction_node\"\n",
    "    }\n",
    ")\n",
    "\n",
    "graph.add_edge(\"addition_node\", END)\n",
    "graph.add_edge(\"subtraction_node\", END)\n",
    "\n",
    "app = graph.compile()"
   ]
  },
  {
   "cell_type": "code",
   "execution_count": 5,
   "id": "6b8715ac",
   "metadata": {},
   "outputs": [
    {
     "data": {
      "image/png": "[encoded data removed]",
      "text/plain": [
       "<IPython.core.display.Image object>"
      ]
     },
     "metadata": {},
     "output_type": "display_data"
    }
   ],
   "source": [
    "from IPython.display import Image, display\n",
    "display(Image(app.get_graph().draw_mermaid_png()))"
   ]
  },
  {
   "cell_type": "code",
   "execution_count": 7,
   "id": "a0c79f75",
   "metadata": {},
   "outputs": [
    {
     "data": {
      "text/plain": [
       "30"
      ]
     },
     "execution_count": 7,
     "metadata": {},
     "output_type": "execute_result"
    }
   ],
   "source": [
    "input = AgentState(\n",
    "    number1= 10,\n",
    "    number2=20,\n",
    "    operation=\"+\",\n",
    "    final_number=0\n",
    ")\n",
    "result = app.invoke(input)\n",
    "result['final_number']"
   ]
  },
  {
   "cell_type": "code",
   "execution_count": 8,
   "id": "2e5fc009",
   "metadata": {},
   "outputs": [
    {
     "data": {
      "text/plain": [
       "10"
      ]
     },
     "execution_count": 8,
     "metadata": {},
     "output_type": "execute_result"
    }
   ],
   "source": [
    "input = AgentState(\n",
    "    number1= 20,\n",
    "    number2=10,\n",
    "    operation=\"-\",\n",
    "    final_number=0\n",
    ")\n",
    "result = app.invoke(input)\n",
    "result['final_number']"
   ]
  }
 ],
 "metadata": {
  "kernelspec": {
   "display_name": "myversion",
   "language": "python",
   "name": "python3"
  },
  "language_info": {
   "codemirror_mode": {
    "name": "ipython",
    "version": 3
   },
   "file_extension": ".py",
   "mimetype": "text/x-python",
   "name": "python",
   "nbconvert_exporter": "python",
   "pygments_lexer": "ipython3",
   "version": "3.12.11"
  }
 },
 "nbformat": 4,
 "nbformat_minor": 5
}
