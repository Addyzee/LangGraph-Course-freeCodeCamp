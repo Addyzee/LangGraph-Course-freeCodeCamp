{
 "cells": [
  {
   "cell_type": "code",
   "execution_count": 1,
   "id": "8366dfef",
   "metadata": {},
   "outputs": [],
   "source": [
    "from langgraph.graph import StateGraph, END\n",
    "import random\n",
    "from typing import Dict, List, TypedDict"
   ]
  },
  {
   "cell_type": "code",
   "execution_count": 2,
   "id": "99cd5a3e",
   "metadata": {},
   "outputs": [],
   "source": [
    "class AgentState(TypedDict):\n",
    "    player_name: str\n",
    "    guesses: list[int]\n",
    "    number_of_attempts: int\n",
    "    lower_bound: int\n",
    "    upper_bound: int\n",
    "    correct_number: int\n",
    "    hint: str\n",
    "    maximum_tries: int"
   ]
  },
  {
   "cell_type": "code",
   "execution_count": null,
   "id": "f451a7bb",
   "metadata": {},
   "outputs": [],
   "source": [
    "def setup(state: AgentState) -> AgentState:\n",
    "    '''Sets up the game to start'''\n",
    "    lower_bound = 0\n",
    "    upper_bound = 20\n",
    "    correct_number = random.randint(lower_bound, upper_bound)\n",
    "    print(\"setup complete. correct number is \", correct_number)\n",
    "    return AgentState(\n",
    "        player_name= state['player_name'],\n",
    "        guesses=[],\n",
    "        number_of_attempts=0,\n",
    "        lower_bound=lower_bound,\n",
    "        upper_bound=upper_bound,\n",
    "        correct_number=correct_number,\n",
    "        hint=\"\",\n",
    "        maximum_tries=7,\n",
    "    )\n",
    "\n",
    "def guess(state: AgentState) -> AgentState:\n",
    "    '''Doing a guess'''\n",
    "    if state['hint'] == 'higher':\n",
    "        state['lower_bound'] = state['guesses'][-1] + 1\n",
    "    elif state['hint'] == 'lower':\n",
    "        state['upper_bound'] = state['guesses'][-1] - 1\n",
    "    guess = random.randint(state['lower_bound'], state['upper_bound'])\n",
    "    print(\"guessed\", guess)\n",
    "    state['guesses'].append(guess)\n",
    "    state['number_of_attempts'] += 1\n",
    "    return state\n",
    "\n",
    "\n",
    "def check_end(state: AgentState) -> str:\n",
    "    '''Check whether to end game'''\n",
    "    if state['guesses'][-1] == state['correct_number']:\n",
    "        print(\"correct guess!!! Now, who's a smart agent?\")\n",
    "        return 'stop'\n",
    "    elif state['number_of_attempts'] >= state['maximum_tries']:\n",
    "        print(\"oops! game over!\")\n",
    "        return 'stop'\n",
    "    print(\"continue guessing\")\n",
    "    return 'continue'\n",
    "\n",
    "def provide_hint(state: AgentState) -> AgentState:\n",
    "    '''Provide hint'''\n",
    "    if state['guesses'][-1] < state['correct_number']:\n",
    "        print(\"hint higher\")\n",
    "        state['hint'] = 'higher'\n",
    "    else:\n",
    "        print(\"hint lower\")\n",
    "        state['hint'] = 'lower'\n",
    "    return state"
   ]
  },
  {
   "cell_type": "code",
   "execution_count": 4,
   "id": "cb64f5df",
   "metadata": {},
   "outputs": [],
   "source": [
    "graph = StateGraph(AgentState)\n",
    "graph.add_node(\"setup\", setup)\n",
    "graph.add_node(\"guess\", guess)\n",
    "graph.add_node(\"hint\", provide_hint)\n",
    "\n",
    "graph.add_edge(\"setup\", \"guess\")\n",
    "graph.add_edge(\"hint\", \"guess\")\n",
    "graph.add_conditional_edges(\n",
    "    \"guess\",\n",
    "    check_end,\n",
    "    {\n",
    "        \"stop\": END,\n",
    "        \"continue\": \"hint\"\n",
    "    }\n",
    ")\n",
    "graph.set_entry_point(\"setup\")\n",
    "app = graph.compile()"
   ]
  },
  {
   "cell_type": "code",
   "execution_count": 5,
   "id": "a88fcb4e",
   "metadata": {},
   "outputs": [
    {
     "data": {
      "image/png": "[encoded data removed]",
      "text/plain": [
       "<IPython.core.display.Image object>"
      ]
     },
     "metadata": {},
     "output_type": "display_data"
    }
   ],
   "source": [
    "from IPython.display import Image, display\n",
    "display(Image(app.get_graph().draw_mermaid_png()))"
   ]
  },
  {
   "cell_type": "code",
   "execution_count": null,
   "id": "dfb69b36",
   "metadata": {},
   "outputs": [
    {
     "name": "stdout",
     "output_type": "stream",
     "text": [
      "setup complete. correct number is  9\n",
      "guessed 8\n",
      "continue guessing\n",
      "hint higher\n",
      "guessed 20\n",
      "continue guessing\n",
      "hint lower\n",
      "guessed 19\n",
      "continue guessing\n",
      "hint lower\n",
      "guessed 12\n",
      "continue guessing\n",
      "hint lower\n",
      "guessed 10\n",
      "continue guessing\n",
      "hint lower\n",
      "guessed 9\n",
      "correct guess!!! Now, who's a smart agent?\n",
      "{'player_name': 'The Smart Bot', 'guesses': [8, 20, 19, 12, 10, 9], 'number_of_attempts': 6, 'lower_bound': 9, 'upper_bound': 9, 'correct_number': 9, 'hint': 'lower', 'maximum_tries': 7}\n"
     ]
    }
   ],
   "source": [
    "initial = AgentState(\n",
    "        player_name= \"The Smart Bot\",\n",
    "        guesses=[],\n",
    "        number_of_attempts=0,\n",
    "        lower_bound=0,\n",
    "        upper_bound=20,\n",
    "        correct_number=0,\n",
    "        hint=\"\",\n",
    "        maximum_tries=7,\n",
    "    )\n",
    "result = app.invoke(initial)\n",
    "print(result)\n"
   ]
  }
 ],
 "metadata": {
  "kernelspec": {
   "display_name": "myversion",
   "language": "python",
   "name": "python3"
  },
  "language_info": {
   "codemirror_mode": {
    "name": "ipython",
    "version": 3
   },
   "file_extension": ".py",
   "mimetype": "text/x-python",
   "name": "python",
   "nbconvert_exporter": "python",
   "pygments_lexer": "ipython3",
   "version": "3.12.11"
  }
 },
 "nbformat": 4,
 "nbformat_minor": 5
}
