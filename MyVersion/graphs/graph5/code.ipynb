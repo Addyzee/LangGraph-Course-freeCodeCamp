{
 "cells": [
  {
   "cell_type": "code",
   "execution_count": 8,
   "id": "f04f4eab",
   "metadata": {},
   "outputs": [],
   "source": [
    "from typing import TypedDict\n",
    "from langgraph.graph import StateGraph, START, END\n",
    "import random"
   ]
  },
  {
   "cell_type": "code",
   "execution_count": 9,
   "id": "8b2b80ec",
   "metadata": {},
   "outputs": [],
   "source": [
    "class AgentState(TypedDict):\n",
    "    name: str\n",
    "    numbers: list[int]\n",
    "    counter: int"
   ]
  },
  {
   "cell_type": "code",
   "execution_count": 10,
   "id": "d019675e",
   "metadata": {},
   "outputs": [],
   "source": [
    "def greeting_node(state: AgentState) -> AgentState:\n",
    "    \"\"\"Says hi to the person\"\"\"\n",
    "    state[\"name\"] = f\"Hi there, {state[\"name\"]}\"\n",
    "    state[\"counter\"] = 0 \n",
    "\n",
    "    return state\n",
    "\n",
    "def randomize_number_node(state: AgentState) -> AgentState:\n",
    "    '''Generate random number'''\n",
    "    state['numbers'].append(random.randint(0,10))\n",
    "    state['counter'] += 1\n",
    "    return state\n",
    "\n",
    "def should_continue(state: AgentState) -> str:\n",
    "    '''Decide whether to loop'''\n",
    "    if state['counter'] < 5:\n",
    "        print('looping', state['counter'])\n",
    "        return 'loop'\n",
    "    return 'stop'"
   ]
  },
  {
   "cell_type": "code",
   "execution_count": 11,
   "id": "a7a51274",
   "metadata": {},
   "outputs": [],
   "source": [
    "graph = StateGraph(AgentState)\n",
    "\n",
    "graph.add_node(\"greeting\", greeting_node)\n",
    "graph.add_node(\"random\", randomize_number_node)\n",
    "\n",
    "graph.add_edge(\"greeting\", \"random\")\n",
    "graph.add_edge(START, \"greeting\")\n",
    "graph.add_conditional_edges(\n",
    "    \"random\", \n",
    "    should_continue,\n",
    "    {\n",
    "        \"loop\": \"random\",\n",
    "        \"stop\": END\n",
    "    }\n",
    ")\n",
    "app = graph.compile()"
   ]
  },
  {
   "cell_type": "code",
   "execution_count": 12,
   "id": "e499cce6",
   "metadata": {},
   "outputs": [
    {
     "data": {
      "image/png": "[encoded data removed]",
      "text/plain": [
       "<IPython.core.display.Image object>"
      ]
     },
     "metadata": {},
     "output_type": "display_data"
    }
   ],
   "source": [
    "from IPython.display import Image, display\n",
    "display(Image(app.get_graph().draw_mermaid_png()))"
   ]
  },
  {
   "cell_type": "code",
   "execution_count": 13,
   "id": "747467f6",
   "metadata": {},
   "outputs": [
    {
     "name": "stdout",
     "output_type": "stream",
     "text": [
      "looping 1\n",
      "looping 2\n",
      "looping 3\n",
      "looping 4\n"
     ]
    },
    {
     "data": {
      "text/plain": [
       "{'name': 'Hi there, Andrew', 'numbers': [1, 7, 1, 9, 5], 'counter': 5}"
      ]
     },
     "execution_count": 13,
     "metadata": {},
     "output_type": "execute_result"
    }
   ],
   "source": [
    "input = AgentState(\n",
    "    name = \"Andrew\",\n",
    "    numbers = [],\n",
    "    counter = 0\n",
    ")\n",
    "app.invoke(input)"
   ]
  }
 ],
 "metadata": {
  "kernelspec": {
   "display_name": "myversion",
   "language": "python",
   "name": "python3"
  },
  "language_info": {
   "codemirror_mode": {
    "name": "ipython",
    "version": 3
   },
   "file_extension": ".py",
   "mimetype": "text/x-python",
   "name": "python",
   "nbconvert_exporter": "python",
   "pygments_lexer": "ipython3",
   "version": "3.12.11"
  }
 },
 "nbformat": 4,
 "nbformat_minor": 5
}
